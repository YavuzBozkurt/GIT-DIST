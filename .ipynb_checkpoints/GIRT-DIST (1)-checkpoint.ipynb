{
 "cells": [
  {
   "cell_type": "markdown",
   "id": "bfc1a583-09a6-4340-969b-3344e4c51d4c",
   "metadata": {},
   "source": [
    "Import Libraries"
   ]
  },
  {
   "cell_type": "code",
   "execution_count": 1,
   "id": "8f969a79-aabb-4e18-a4ca-7c08e4be8471",
   "metadata": {},
   "outputs": [],
   "source": [
    "import pandas as pd\n",
    "import numpy as np\n",
    "import seaborn as sns\n",
    "from sklearn import svm\n",
    "from sklearn.preprocessing import LabelEncoder\n",
    "from sklearn.metrics import accuracy_score\n",
    "from scipy.stats import ks_2samp\n",
    "from scipy.stats import wilcoxon\n",
    "import matplotlib.pyplot as plt\n",
    "from collections import Counter\n",
    "import pickle\n",
    "import time\n",
    "import os"
   ]
  },
  {
   "cell_type": "markdown",
   "id": "0028c911-fd3a-4556-8b0c-5339e7a5a0e3",
   "metadata": {},
   "source": [
    "Load repository characteristics dataset"
   ]
  },
  {
   "cell_type": "code",
   "execution_count": 2,
   "id": "f74ad784-3187-408f-abc0-23673efb67f3",
   "metadata": {},
   "outputs": [
    {
     "name": "stdout",
     "output_type": "stream",
     "text": [
      "Index(['full_name', 'is_fork', 'has_issues', 'created_at', 'last_modified',\n",
      "       'pushed_at', 'main_language', 'total_issues_count', 'open_issues_count',\n",
      "       'closed_issues_count', 'total_pull_requests_count',\n",
      "       'open_pull_requests_count', 'closed_pull_requests_count', 'size',\n",
      "       'topics', 'stargazers_count', 'subscribers_count', 'forks_count',\n",
      "       'commits_count', 'assignees_count', 'branches_count', 'releases_count',\n",
      "       'is_archive', 'has_wiki', 'contributors_count', 'open_issues_countv2',\n",
      "       'closed_issues_countv2', 'total_issues_countv2', 'has_IRT'],\n",
      "      dtype='object')\n"
     ]
    }
   ],
   "source": [
    "df_repo = pd.read_csv('C:/Users/20200710/Desktop/characteristics_repo.csv')\n",
    "print(df_repo.columns)"
   ]
  },
  {
   "cell_type": "markdown",
   "id": "238f4430-fcb0-4326-bfee-14e7879aa181",
   "metadata": {},
   "source": [
    "Retrieve the features we are interested in "
   ]
  },
  {
   "cell_type": "code",
   "execution_count": 3,
   "id": "cc05ebb6-0e6a-442e-a623-9d93337e00e3",
   "metadata": {},
   "outputs": [],
   "source": [
    "df_repo = df_repo[['main_language', 'total_issues_count', 'total_pull_requests_count','commits_count','branches_count', 'contributors_count', 'has_IRT']]"
   ]
  },
  {
   "cell_type": "code",
   "execution_count": 4,
   "id": "4ca7ca6a-19e5-42a7-8f4a-cb00fe31def9",
   "metadata": {},
   "outputs": [
    {
     "name": "stdout",
     "output_type": "stream",
     "text": [
      "Index(['main_language', 'total_issues_count', 'total_pull_requests_count',\n",
      "       'commits_count', 'branches_count', 'contributors_count', 'has_IRT'],\n",
      "      dtype='object')\n"
     ]
    }
   ],
   "source": [
    "print(df_repo.columns)"
   ]
  },
  {
   "cell_type": "markdown",
   "id": "fdecf07b-62da-4d83-808c-a51d4986f8db",
   "metadata": {},
   "source": [
    "Divide the dataset into two. One that contains repositories with IRTs, one that contains those that don't "
   ]
  },
  {
   "cell_type": "code",
   "execution_count": 5,
   "id": "f7b394bd-c9b6-42be-9823-a06a5fa1dda8",
   "metadata": {},
   "outputs": [
    {
     "data": {
      "text/plain": [
       "(50032, 7)"
      ]
     },
     "execution_count": 5,
     "metadata": {},
     "output_type": "execute_result"
    }
   ],
   "source": [
    "df_repo_hasIRT = df_repo[df_repo['has_IRT'] == True]\n",
    "df_repo_hasIRT.shape"
   ]
  },
  {
   "cell_type": "code",
   "execution_count": 6,
   "id": "fa2fd453-c8b3-484e-916b-e7c45855f77f",
   "metadata": {},
   "outputs": [
    {
     "data": {
      "text/plain": [
       "(1034268, 7)"
      ]
     },
     "execution_count": 6,
     "metadata": {},
     "output_type": "execute_result"
    }
   ],
   "source": [
    "df_repo_noIRT = df_repo[df_repo['has_IRT'] == False]\n",
    "df_repo_noIRT.shape"
   ]
  },
  {
   "cell_type": "markdown",
   "id": "c9f62df0-fdd0-4029-a59d-492f89d4758d",
   "metadata": {},
   "source": [
    "Set those repositories that have IRTs in training and testing holdouts.\n",
    "* 80% is in training\n",
    "* 20% is in testing"
   ]
  },
  {
   "cell_type": "code",
   "execution_count": 7,
   "id": "eb6000b4-6914-49aa-97ca-7f09b06e0333",
   "metadata": {},
   "outputs": [
    {
     "data": {
      "text/plain": [
       "((40025, 7), (10007, 7))"
      ]
     },
     "execution_count": 7,
     "metadata": {},
     "output_type": "execute_result"
    }
   ],
   "source": [
    "df_repo_hasIRT_train = df_repo_hasIRT[:int(df_repo_hasIRT.shape[0] * 0.8)]\n",
    "df_repo_hasIRT_test = df_repo_hasIRT[int(df_repo_hasIRT.shape[0] * 0.8):]\n",
    "df_repo_hasIRT_train.shape, df_repo_hasIRT_test.shape"
   ]
  },
  {
   "cell_type": "markdown",
   "id": "73bff2c8-0e72-4969-b880-1221afc87654",
   "metadata": {},
   "source": [
    "Set those repositories that do not have IRTs in training and testing holdouts\n",
    "* As many as df_repo_hasIRT_train in training (to make the dataset balanced)\n",
    "* All the rest"
   ]
  },
  {
   "cell_type": "code",
   "execution_count": 8,
   "id": "23943958-9cce-45f5-a109-1736072779d5",
   "metadata": {},
   "outputs": [
    {
     "data": {
      "text/plain": [
       "((40025, 7), (994243, 7))"
      ]
     },
     "execution_count": 8,
     "metadata": {},
     "output_type": "execute_result"
    }
   ],
   "source": [
    "df_repo_noIRT_train = df_repo_noIRT[:df_repo_hasIRT_train.shape[0]]\n",
    "df_repo_noIRT_test = df_repo_noIRT[df_repo_hasIRT_train.shape[0]:]\n",
    "df_repo_noIRT_train.shape, df_repo_noIRT_test.shape"
   ]
  },
  {
   "cell_type": "markdown",
   "id": "0cc832d0-108a-455f-ab54-b6a9bec9b499",
   "metadata": {},
   "source": [
    "Combine the datasets into training and testing holdouts "
   ]
  },
  {
   "cell_type": "code",
   "execution_count": 9,
   "id": "58fb2fef-5bdc-4ff8-b429-dcdfae141f30",
   "metadata": {},
   "outputs": [
    {
     "data": {
      "text/plain": [
       "((80050, 7), (1004250, 7))"
      ]
     },
     "execution_count": 9,
     "metadata": {},
     "output_type": "execute_result"
    }
   ],
   "source": [
    "df_repo_train = pd.concat([df_repo_hasIRT_train, df_repo_noIRT_train], ignore_index=True)\n",
    "df_repo_test = pd.concat([df_repo_hasIRT_test, df_repo_noIRT_test], ignore_index=True)\n",
    "df_repo_train.shape, df_repo_test.shape"
   ]
  },
  {
   "cell_type": "markdown",
   "id": "1eebfe90-6409-42fe-8e20-faa553dcb61c",
   "metadata": {},
   "source": [
    "Train an SVM model with the training dataset and assess its performance with the testing dataset. However, the main_language and has_IRT attributes of the datasets are of type string and boolean respectively. Convert these into values instead for training and testing"
   ]
  },
  {
   "cell_type": "markdown",
   "id": "7e11651d-c3c0-431f-864d-5eaaf6278acb",
   "metadata": {},
   "source": [
    "Get all distinct programming languages in the training dataset. Check if there is any missing data"
   ]
  },
  {
   "cell_type": "code",
   "execution_count": 10,
   "id": "221e5ebb-b90c-4b51-a324-024f2e08eb63",
   "metadata": {},
   "outputs": [
    {
     "data": {
      "text/plain": [
       "(False, 130)"
      ]
     },
     "execution_count": 10,
     "metadata": {},
     "output_type": "execute_result"
    }
   ],
   "source": [
    "main_lang_train = df_repo_train['main_language'].unique()\n",
    "df_repo_train['main_language'].isna().any(), len(df_repo_train['main_language'].unique())"
   ]
  },
  {
   "cell_type": "markdown",
   "id": "d91b4197-f3cc-4e3a-86b1-8a8a88614e69",
   "metadata": {},
   "source": [
    "Get all distinct programming languages in the testing dataset. Check if there is any missing data"
   ]
  },
  {
   "cell_type": "code",
   "execution_count": 11,
   "id": "00491db6-683e-438f-9ec0-948f9409b8ec",
   "metadata": {},
   "outputs": [
    {
     "data": {
      "text/plain": [
       "(False, 282)"
      ]
     },
     "execution_count": 11,
     "metadata": {},
     "output_type": "execute_result"
    }
   ],
   "source": [
    "main_lang_test = df_repo_test['main_language'].unique()\n",
    "df_repo_test['main_language'].isna().any(), len(df_repo_test['main_language'].unique())"
   ]
  },
  {
   "cell_type": "markdown",
   "id": "3eef89de-ccde-47e8-934a-7468ac6b460f",
   "metadata": {},
   "source": [
    "Find all distinct programming languages in the training and testing datasets together"
   ]
  },
  {
   "cell_type": "code",
   "execution_count": 12,
   "id": "58650405-6b6e-4461-a39b-7e50f9e78409",
   "metadata": {},
   "outputs": [
    {
     "data": {
      "text/plain": [
       "(294,)"
      ]
     },
     "execution_count": 12,
     "metadata": {},
     "output_type": "execute_result"
    }
   ],
   "source": [
    "main_langs = set(main_lang_train).union(set(main_lang_test))\n",
    "main_langs = np.array(list(main_langs))\n",
    "main_langs.shape"
   ]
  },
  {
   "cell_type": "markdown",
   "id": "50de8b15-75ab-4120-971d-45bcc724bfaa",
   "metadata": {},
   "source": [
    "Map programming languages to integers"
   ]
  },
  {
   "cell_type": "code",
   "execution_count": 13,
   "id": "23b4f6bd-f8ff-4097-8661-e2b2c6fdfa4d",
   "metadata": {},
   "outputs": [
    {
     "data": {
      "text/plain": [
       "{'1C Enterprise': 0,\n",
       " 'AGS Script': 1,\n",
       " 'AIDL': 2,\n",
       " 'AMPL': 3,\n",
       " 'ANTLR': 4,\n",
       " 'API Blueprint': 5,\n",
       " 'ASL': 6,\n",
       " 'ASP.NET': 7,\n",
       " 'ActionScript': 8,\n",
       " 'Ada': 9,\n",
       " 'Adblock Filter List': 10,\n",
       " 'AngelScript': 11,\n",
       " 'Antlers': 12,\n",
       " 'Apex': 13,\n",
       " 'AppleScript': 14,\n",
       " 'Arduino': 15,\n",
       " 'AsciiDoc': 16,\n",
       " 'Assembly': 17,\n",
       " 'Astro': 18,\n",
       " 'AutoHotkey': 19,\n",
       " 'AutoIt': 20,\n",
       " 'BASIC': 21,\n",
       " 'Ballerina': 22,\n",
       " 'Batchfile': 23,\n",
       " 'Beef': 24,\n",
       " 'Berry': 25,\n",
       " 'Bicep': 26,\n",
       " 'Bikeshed': 27,\n",
       " 'BitBake': 28,\n",
       " 'Blade': 29,\n",
       " 'Boogie': 30,\n",
       " 'Brainfuck': 31,\n",
       " 'BrighterScript': 32,\n",
       " 'C': 33,\n",
       " 'C#': 34,\n",
       " 'C++': 35,\n",
       " 'CAP CDS': 36,\n",
       " 'CLIPS': 37,\n",
       " 'CMake': 38,\n",
       " 'COBOL': 39,\n",
       " 'CSON': 40,\n",
       " 'CSS': 41,\n",
       " 'CUE': 42,\n",
       " 'Cadence': 43,\n",
       " 'Cairo': 44,\n",
       " \"Cap'n Proto\": 45,\n",
       " 'ChucK': 46,\n",
       " 'Clarity': 47,\n",
       " 'Classic ASP': 48,\n",
       " 'Click': 49,\n",
       " 'Clojure': 50,\n",
       " 'CodeQL': 51,\n",
       " 'CoffeeScript': 52,\n",
       " 'Common Lisp': 53,\n",
       " 'Common Workflow Language': 54,\n",
       " 'Coq': 55,\n",
       " 'Crystal': 56,\n",
       " 'Csound': 57,\n",
       " 'Cuda': 58,\n",
       " 'Cypher': 59,\n",
       " 'Cython': 60,\n",
       " 'D': 61,\n",
       " 'DIGITAL Command Language': 62,\n",
       " 'Dafny': 63,\n",
       " 'Dart': 64,\n",
       " 'DenizenScript': 65,\n",
       " 'Dhall': 66,\n",
       " 'Dockerfile': 67,\n",
       " 'ECL': 68,\n",
       " 'EJS': 69,\n",
       " 'Eagle': 70,\n",
       " 'Earthly': 71,\n",
       " 'Elixir': 72,\n",
       " 'Elm': 73,\n",
       " 'Elvish': 74,\n",
       " 'Emacs Lisp': 75,\n",
       " 'Erlang': 76,\n",
       " 'Euphoria': 77,\n",
       " 'F#': 78,\n",
       " 'FORTRAN': 79,\n",
       " 'Fancy': 80,\n",
       " 'Faust': 81,\n",
       " 'Fennel': 82,\n",
       " 'Fluent': 83,\n",
       " 'Forth': 84,\n",
       " 'Fortran': 85,\n",
       " 'FreeBasic': 86,\n",
       " 'FreeMarker': 87,\n",
       " 'G-code': 88,\n",
       " 'GDScript': 89,\n",
       " 'GLSL': 90,\n",
       " 'GSC': 91,\n",
       " 'Game Maker Language': 92,\n",
       " 'Gherkin': 93,\n",
       " 'Gleam': 94,\n",
       " 'Gnuplot': 95,\n",
       " 'Go': 96,\n",
       " 'Gosu': 97,\n",
       " 'Groovy': 98,\n",
       " 'HCL': 99,\n",
       " 'HLSL': 100,\n",
       " 'HTML': 101,\n",
       " 'Hack': 102,\n",
       " 'Haml': 103,\n",
       " 'Handlebars': 104,\n",
       " 'Haskell': 105,\n",
       " 'Haxe': 106,\n",
       " 'HiveQL': 107,\n",
       " 'HolyC': 108,\n",
       " 'IDL': 109,\n",
       " 'INI': 110,\n",
       " 'ImageJ Macro': 111,\n",
       " 'Imba': 112,\n",
       " 'Ink': 113,\n",
       " 'Inno Setup': 114,\n",
       " 'Io': 115,\n",
       " 'Isabelle': 116,\n",
       " 'JSON': 117,\n",
       " 'Janet': 118,\n",
       " 'Java': 119,\n",
       " 'JavaScript': 120,\n",
       " 'JetBrains MPS': 121,\n",
       " 'Jinja': 122,\n",
       " 'Jsonnet': 123,\n",
       " 'Julia': 124,\n",
       " 'Jupyter Notebook': 125,\n",
       " 'Kaitai Struct': 126,\n",
       " 'KakouneScript': 127,\n",
       " 'KiCad Layout': 128,\n",
       " 'Kotlin': 129,\n",
       " 'LLVM': 130,\n",
       " 'LabVIEW': 131,\n",
       " 'Lasso': 132,\n",
       " 'Latte': 133,\n",
       " 'Lean': 134,\n",
       " 'Less': 135,\n",
       " 'Lex': 136,\n",
       " 'Liquid': 137,\n",
       " 'Logos': 138,\n",
       " 'LookML': 139,\n",
       " 'Lua': 140,\n",
       " 'M4': 141,\n",
       " 'MATLAB': 142,\n",
       " 'MLIR': 143,\n",
       " 'Macaulay2': 144,\n",
       " 'Makefile': 145,\n",
       " 'Mako': 146,\n",
       " 'Markdown': 147,\n",
       " 'Marko': 148,\n",
       " 'Mathematica': 149,\n",
       " 'Matlab': 150,\n",
       " 'Max': 151,\n",
       " 'Mercury': 152,\n",
       " 'Mermaid': 153,\n",
       " 'Metal': 154,\n",
       " 'Mint': 155,\n",
       " 'Modelica': 156,\n",
       " 'Monkey C': 157,\n",
       " 'Motoko': 158,\n",
       " 'Move': 159,\n",
       " 'Mustache': 160,\n",
       " 'NASL': 161,\n",
       " 'NCL': 162,\n",
       " 'NSIS': 163,\n",
       " 'NWScript': 164,\n",
       " 'Nasal': 165,\n",
       " 'Nextflow': 166,\n",
       " 'Nim': 167,\n",
       " 'Nix': 168,\n",
       " 'Nu': 169,\n",
       " 'Nunjucks': 170,\n",
       " 'OCaml': 171,\n",
       " 'ObjectScript': 172,\n",
       " 'Objective-C': 173,\n",
       " 'Objective-C++': 174,\n",
       " 'Objective-J': 175,\n",
       " 'Odin': 176,\n",
       " 'Open Policy Agent': 177,\n",
       " 'OpenEdge ABL': 178,\n",
       " 'OpenQASM': 179,\n",
       " 'OpenSCAD': 180,\n",
       " 'PDDL': 181,\n",
       " 'PEG.js': 182,\n",
       " 'PHP': 183,\n",
       " 'PLpgSQL': 184,\n",
       " 'POV-Ray SDL': 185,\n",
       " 'Pascal': 186,\n",
       " 'Pawn': 187,\n",
       " 'Perl': 188,\n",
       " 'Pike': 189,\n",
       " 'PostScript': 190,\n",
       " 'PowerBuilder': 191,\n",
       " 'PowerShell': 192,\n",
       " 'Processing': 193,\n",
       " 'Procfile': 194,\n",
       " 'Prolog': 195,\n",
       " 'Promela': 196,\n",
       " 'Pug': 197,\n",
       " 'Puppet': 198,\n",
       " 'PureBasic': 199,\n",
       " 'PureScript': 200,\n",
       " 'Python': 201,\n",
       " 'QML': 202,\n",
       " 'QMake': 203,\n",
       " 'R': 204,\n",
       " 'REXX': 205,\n",
       " 'RPGLE': 206,\n",
       " 'Racket': 207,\n",
       " 'Ragel': 208,\n",
       " 'Ragel in Ruby Host': 209,\n",
       " 'Raku': 210,\n",
       " 'ReScript': 211,\n",
       " 'Reason': 212,\n",
       " \"Ren'Py\": 213,\n",
       " 'RenderScript': 214,\n",
       " 'Rich Text Format': 215,\n",
       " 'RobotFramework': 216,\n",
       " 'Roff': 217,\n",
       " 'Ruby': 218,\n",
       " 'Rust': 219,\n",
       " 'SAS': 220,\n",
       " 'SCSS': 221,\n",
       " 'SMT': 222,\n",
       " 'SQF': 223,\n",
       " 'SQL': 224,\n",
       " 'SWIG': 225,\n",
       " 'Sage': 226,\n",
       " 'SaltStack': 227,\n",
       " 'Sass': 228,\n",
       " 'Scala': 229,\n",
       " 'Scheme': 230,\n",
       " 'Scilab': 231,\n",
       " 'ShaderLab': 232,\n",
       " 'Shell': 233,\n",
       " 'Slash': 234,\n",
       " 'Slim': 235,\n",
       " 'SmPL': 236,\n",
       " 'Smali': 237,\n",
       " 'Smalltalk': 238,\n",
       " 'Smarty': 239,\n",
       " 'Smithy': 240,\n",
       " 'Solidity': 241,\n",
       " 'SourcePawn': 242,\n",
       " 'Stan': 243,\n",
       " 'Standard ML': 244,\n",
       " 'Starlark': 245,\n",
       " 'Stata': 246,\n",
       " 'Stylus': 247,\n",
       " 'SuperCollider': 248,\n",
       " 'Svelte': 249,\n",
       " 'Swift': 250,\n",
       " 'SystemVerilog': 251,\n",
       " 'TLA': 252,\n",
       " 'TSQL': 253,\n",
       " 'Tcl': 254,\n",
       " 'TeX': 255,\n",
       " 'Terra': 256,\n",
       " 'Twig': 257,\n",
       " 'TypeScript': 258,\n",
       " 'V': 259,\n",
       " 'VBA': 260,\n",
       " 'VBScript': 261,\n",
       " 'VHDL': 262,\n",
       " 'Vala': 263,\n",
       " 'Verilog': 264,\n",
       " 'Vim Script': 265,\n",
       " 'Vim Snippet': 266,\n",
       " 'Vim script': 267,\n",
       " 'VimL': 268,\n",
       " 'Visual Basic': 269,\n",
       " 'Visual Basic .NET': 270,\n",
       " 'Visual Basic 6.0': 271,\n",
       " 'Vue': 272,\n",
       " 'Vyper': 273,\n",
       " 'WebAssembly': 274,\n",
       " 'Wikitext': 275,\n",
       " 'Witcher Script': 276,\n",
       " 'XSLT': 277,\n",
       " 'YAML': 278,\n",
       " 'YARA': 279,\n",
       " 'Yacc': 280,\n",
       " 'ZAP': 281,\n",
       " 'Zeek': 282,\n",
       " 'Zephir': 283,\n",
       " 'Zig': 284,\n",
       " 'eC': 285,\n",
       " 'hoon': 286,\n",
       " 'just': 287,\n",
       " 'kvlang': 288,\n",
       " 'mIRC Script': 289,\n",
       " 'q': 290,\n",
       " 'reStructuredText': 291,\n",
       " 'wdl': 292,\n",
       " 'xBase': 293}"
      ]
     },
     "execution_count": 13,
     "metadata": {},
     "output_type": "execute_result"
    }
   ],
   "source": [
    "lang_encodings = LabelEncoder()\n",
    "lang_encodings.fit_transform(main_langs)\n",
    "lang_encodings = dict(zip(lang_encodings.classes_, lang_encodings.transform(lang_encodings.classes_)))\n",
    "lang_encodings"
   ]
  },
  {
   "cell_type": "markdown",
   "id": "5a24b940-2ac6-424c-9ecb-bb217c25556c",
   "metadata": {},
   "source": [
    "Update the main_language column of training and test holdouts accordingly using the mapping provided above"
   ]
  },
  {
   "cell_type": "code",
   "execution_count": 14,
   "id": "45d14f56-6adf-4f47-8eb1-5df67b2c47ed",
   "metadata": {},
   "outputs": [],
   "source": [
    "temp_train = np.array(df_repo_train['main_language'])\n",
    "temp_test = np.array(df_repo_test['main_language'])\n",
    "\n",
    "for i in range(len(temp_train)):\n",
    "    temp_train[i] = lang_encodings[temp_train[i]]\n",
    "\n",
    "for i in range(len(temp_test)):\n",
    "    temp_test[i] = lang_encodings[temp_test[i]]\n",
    "    "
   ]
  },
  {
   "cell_type": "markdown",
   "id": "393c058f-816b-49bb-a363-cba697518105",
   "metadata": {},
   "source": [
    "Update the training dataset so that main_language is of type integer"
   ]
  },
  {
   "cell_type": "code",
   "execution_count": 15,
   "id": "2242c437-debf-4793-adc3-52da20217b88",
   "metadata": {},
   "outputs": [
    {
     "data": {
      "text/html": [
       "<div>\n",
       "<style scoped>\n",
       "    .dataframe tbody tr th:only-of-type {\n",
       "        vertical-align: middle;\n",
       "    }\n",
       "\n",
       "    .dataframe tbody tr th {\n",
       "        vertical-align: top;\n",
       "    }\n",
       "\n",
       "    .dataframe thead th {\n",
       "        text-align: right;\n",
       "    }\n",
       "</style>\n",
       "<table border=\"1\" class=\"dataframe\">\n",
       "  <thead>\n",
       "    <tr style=\"text-align: right;\">\n",
       "      <th></th>\n",
       "      <th>main_language</th>\n",
       "      <th>total_issues_count</th>\n",
       "      <th>total_pull_requests_count</th>\n",
       "      <th>commits_count</th>\n",
       "      <th>branches_count</th>\n",
       "      <th>contributors_count</th>\n",
       "      <th>has_IRT</th>\n",
       "    </tr>\n",
       "  </thead>\n",
       "  <tbody>\n",
       "    <tr>\n",
       "      <th>0</th>\n",
       "      <td>183</td>\n",
       "      <td>747.0</td>\n",
       "      <td>330.0</td>\n",
       "      <td>3010.0</td>\n",
       "      <td>313.0</td>\n",
       "      <td>17.0</td>\n",
       "      <td>True</td>\n",
       "    </tr>\n",
       "    <tr>\n",
       "      <th>1</th>\n",
       "      <td>96</td>\n",
       "      <td>515.0</td>\n",
       "      <td>391.0</td>\n",
       "      <td>502.0</td>\n",
       "      <td>32.0</td>\n",
       "      <td>35.0</td>\n",
       "      <td>True</td>\n",
       "    </tr>\n",
       "    <tr>\n",
       "      <th>2</th>\n",
       "      <td>201</td>\n",
       "      <td>84.0</td>\n",
       "      <td>60.0</td>\n",
       "      <td>237.0</td>\n",
       "      <td>1.0</td>\n",
       "      <td>2.0</td>\n",
       "      <td>True</td>\n",
       "    </tr>\n",
       "    <tr>\n",
       "      <th>3</th>\n",
       "      <td>96</td>\n",
       "      <td>77.0</td>\n",
       "      <td>73.0</td>\n",
       "      <td>246.0</td>\n",
       "      <td>1.0</td>\n",
       "      <td>4.0</td>\n",
       "      <td>True</td>\n",
       "    </tr>\n",
       "    <tr>\n",
       "      <th>4</th>\n",
       "      <td>64</td>\n",
       "      <td>91.0</td>\n",
       "      <td>46.0</td>\n",
       "      <td>167.0</td>\n",
       "      <td>1.0</td>\n",
       "      <td>14.0</td>\n",
       "      <td>True</td>\n",
       "    </tr>\n",
       "    <tr>\n",
       "      <th>5</th>\n",
       "      <td>119</td>\n",
       "      <td>482.0</td>\n",
       "      <td>324.0</td>\n",
       "      <td>761.0</td>\n",
       "      <td>16.0</td>\n",
       "      <td>39.0</td>\n",
       "      <td>True</td>\n",
       "    </tr>\n",
       "    <tr>\n",
       "      <th>6</th>\n",
       "      <td>119</td>\n",
       "      <td>1991.0</td>\n",
       "      <td>1320.0</td>\n",
       "      <td>4236.0</td>\n",
       "      <td>5.0</td>\n",
       "      <td>84.0</td>\n",
       "      <td>True</td>\n",
       "    </tr>\n",
       "    <tr>\n",
       "      <th>7</th>\n",
       "      <td>201</td>\n",
       "      <td>554.0</td>\n",
       "      <td>292.0</td>\n",
       "      <td>528.0</td>\n",
       "      <td>11.0</td>\n",
       "      <td>50.0</td>\n",
       "      <td>True</td>\n",
       "    </tr>\n",
       "    <tr>\n",
       "      <th>8</th>\n",
       "      <td>35</td>\n",
       "      <td>102.0</td>\n",
       "      <td>25.0</td>\n",
       "      <td>2164.0</td>\n",
       "      <td>2.0</td>\n",
       "      <td>2.0</td>\n",
       "      <td>True</td>\n",
       "    </tr>\n",
       "    <tr>\n",
       "      <th>9</th>\n",
       "      <td>120</td>\n",
       "      <td>60.0</td>\n",
       "      <td>5.0</td>\n",
       "      <td>150.0</td>\n",
       "      <td>1.0</td>\n",
       "      <td>2.0</td>\n",
       "      <td>True</td>\n",
       "    </tr>\n",
       "  </tbody>\n",
       "</table>\n",
       "</div>"
      ],
      "text/plain": [
       "  main_language  total_issues_count  total_pull_requests_count  commits_count  \\\n",
       "0           183               747.0                      330.0         3010.0   \n",
       "1            96               515.0                      391.0          502.0   \n",
       "2           201                84.0                       60.0          237.0   \n",
       "3            96                77.0                       73.0          246.0   \n",
       "4            64                91.0                       46.0          167.0   \n",
       "5           119               482.0                      324.0          761.0   \n",
       "6           119              1991.0                     1320.0         4236.0   \n",
       "7           201               554.0                      292.0          528.0   \n",
       "8            35               102.0                       25.0         2164.0   \n",
       "9           120                60.0                        5.0          150.0   \n",
       "\n",
       "   branches_count  contributors_count  has_IRT  \n",
       "0           313.0                17.0     True  \n",
       "1            32.0                35.0     True  \n",
       "2             1.0                 2.0     True  \n",
       "3             1.0                 4.0     True  \n",
       "4             1.0                14.0     True  \n",
       "5            16.0                39.0     True  \n",
       "6             5.0                84.0     True  \n",
       "7            11.0                50.0     True  \n",
       "8             2.0                 2.0     True  \n",
       "9             1.0                 2.0     True  "
      ]
     },
     "execution_count": 15,
     "metadata": {},
     "output_type": "execute_result"
    }
   ],
   "source": [
    "df_repo_train.loc[:, 'main_language'] = temp_train\n",
    "df_repo_train[:10]"
   ]
  },
  {
   "cell_type": "markdown",
   "id": "ab519a59-3b1f-49ae-9537-4ddd586819f0",
   "metadata": {},
   "source": [
    "Update the testing dataset so that main_language is of type integer"
   ]
  },
  {
   "cell_type": "code",
   "execution_count": 16,
   "id": "e9b0ded7-500b-4d2f-9c82-8f6b4acbff75",
   "metadata": {},
   "outputs": [
    {
     "data": {
      "text/html": [
       "<div>\n",
       "<style scoped>\n",
       "    .dataframe tbody tr th:only-of-type {\n",
       "        vertical-align: middle;\n",
       "    }\n",
       "\n",
       "    .dataframe tbody tr th {\n",
       "        vertical-align: top;\n",
       "    }\n",
       "\n",
       "    .dataframe thead th {\n",
       "        text-align: right;\n",
       "    }\n",
       "</style>\n",
       "<table border=\"1\" class=\"dataframe\">\n",
       "  <thead>\n",
       "    <tr style=\"text-align: right;\">\n",
       "      <th></th>\n",
       "      <th>main_language</th>\n",
       "      <th>total_issues_count</th>\n",
       "      <th>total_pull_requests_count</th>\n",
       "      <th>commits_count</th>\n",
       "      <th>branches_count</th>\n",
       "      <th>contributors_count</th>\n",
       "      <th>has_IRT</th>\n",
       "    </tr>\n",
       "  </thead>\n",
       "  <tbody>\n",
       "    <tr>\n",
       "      <th>0</th>\n",
       "      <td>35</td>\n",
       "      <td>1026.0</td>\n",
       "      <td>675.0</td>\n",
       "      <td>1403.0</td>\n",
       "      <td>14.0</td>\n",
       "      <td>51.0</td>\n",
       "      <td>True</td>\n",
       "    </tr>\n",
       "    <tr>\n",
       "      <th>1</th>\n",
       "      <td>250</td>\n",
       "      <td>134.0</td>\n",
       "      <td>96.0</td>\n",
       "      <td>968.0</td>\n",
       "      <td>2.0</td>\n",
       "      <td>1.0</td>\n",
       "      <td>True</td>\n",
       "    </tr>\n",
       "    <tr>\n",
       "      <th>2</th>\n",
       "      <td>201</td>\n",
       "      <td>154.0</td>\n",
       "      <td>143.0</td>\n",
       "      <td>138.0</td>\n",
       "      <td>10.0</td>\n",
       "      <td>18.0</td>\n",
       "      <td>True</td>\n",
       "    </tr>\n",
       "    <tr>\n",
       "      <th>3</th>\n",
       "      <td>201</td>\n",
       "      <td>163.0</td>\n",
       "      <td>84.0</td>\n",
       "      <td>481.0</td>\n",
       "      <td>12.0</td>\n",
       "      <td>16.0</td>\n",
       "      <td>True</td>\n",
       "    </tr>\n",
       "    <tr>\n",
       "      <th>4</th>\n",
       "      <td>201</td>\n",
       "      <td>2173.0</td>\n",
       "      <td>1390.0</td>\n",
       "      <td>1456.0</td>\n",
       "      <td>11.0</td>\n",
       "      <td>138.0</td>\n",
       "      <td>True</td>\n",
       "    </tr>\n",
       "    <tr>\n",
       "      <th>5</th>\n",
       "      <td>258</td>\n",
       "      <td>23.0</td>\n",
       "      <td>14.0</td>\n",
       "      <td>131.0</td>\n",
       "      <td>4.0</td>\n",
       "      <td>4.0</td>\n",
       "      <td>True</td>\n",
       "    </tr>\n",
       "    <tr>\n",
       "      <th>6</th>\n",
       "      <td>258</td>\n",
       "      <td>376.0</td>\n",
       "      <td>373.0</td>\n",
       "      <td>743.0</td>\n",
       "      <td>2.0</td>\n",
       "      <td>4.0</td>\n",
       "      <td>True</td>\n",
       "    </tr>\n",
       "    <tr>\n",
       "      <th>7</th>\n",
       "      <td>35</td>\n",
       "      <td>46.0</td>\n",
       "      <td>31.0</td>\n",
       "      <td>78.0</td>\n",
       "      <td>1.0</td>\n",
       "      <td>3.0</td>\n",
       "      <td>True</td>\n",
       "    </tr>\n",
       "    <tr>\n",
       "      <th>8</th>\n",
       "      <td>120</td>\n",
       "      <td>5420.0</td>\n",
       "      <td>753.0</td>\n",
       "      <td>3114.0</td>\n",
       "      <td>12.0</td>\n",
       "      <td>250.0</td>\n",
       "      <td>True</td>\n",
       "    </tr>\n",
       "    <tr>\n",
       "      <th>9</th>\n",
       "      <td>120</td>\n",
       "      <td>2144.0</td>\n",
       "      <td>866.0</td>\n",
       "      <td>2887.0</td>\n",
       "      <td>33.0</td>\n",
       "      <td>225.0</td>\n",
       "      <td>True</td>\n",
       "    </tr>\n",
       "  </tbody>\n",
       "</table>\n",
       "</div>"
      ],
      "text/plain": [
       "  main_language  total_issues_count  total_pull_requests_count  commits_count  \\\n",
       "0            35              1026.0                      675.0         1403.0   \n",
       "1           250               134.0                       96.0          968.0   \n",
       "2           201               154.0                      143.0          138.0   \n",
       "3           201               163.0                       84.0          481.0   \n",
       "4           201              2173.0                     1390.0         1456.0   \n",
       "5           258                23.0                       14.0          131.0   \n",
       "6           258               376.0                      373.0          743.0   \n",
       "7            35                46.0                       31.0           78.0   \n",
       "8           120              5420.0                      753.0         3114.0   \n",
       "9           120              2144.0                      866.0         2887.0   \n",
       "\n",
       "   branches_count  contributors_count  has_IRT  \n",
       "0            14.0                51.0     True  \n",
       "1             2.0                 1.0     True  \n",
       "2            10.0                18.0     True  \n",
       "3            12.0                16.0     True  \n",
       "4            11.0               138.0     True  \n",
       "5             4.0                 4.0     True  \n",
       "6             2.0                 4.0     True  \n",
       "7             1.0                 3.0     True  \n",
       "8            12.0               250.0     True  \n",
       "9            33.0               225.0     True  "
      ]
     },
     "execution_count": 16,
     "metadata": {},
     "output_type": "execute_result"
    }
   ],
   "source": [
    "df_repo_test.loc[:, 'main_language'] = temp_test\n",
    "df_repo_test[:10]"
   ]
  },
  {
   "cell_type": "markdown",
   "id": "08b88d96-4cf5-482e-9626-972ff41ea939",
   "metadata": {},
   "source": [
    "has_IRT attribute will act as the domain in this case. Consider those repositories that have IRT as in domain 1 and others in domain 0. Apply this for both training and testing datasets"
   ]
  },
  {
   "cell_type": "code",
   "execution_count": 17,
   "id": "b7f1dd50-b4c6-48e1-92a7-a01175fdfda7",
   "metadata": {},
   "outputs": [],
   "source": [
    "df_repo_train['has_IRT'] = np.where(df_repo_train['has_IRT'], 1, 0) \n",
    "df_repo_test['has_IRT'] = np.where(df_repo_test['has_IRT'], 1, 0)"
   ]
  },
  {
   "cell_type": "code",
   "execution_count": 18,
   "id": "934a56f0-d49b-4cdb-a5e4-4130c2fddfb7",
   "metadata": {},
   "outputs": [
    {
     "data": {
      "text/html": [
       "<div>\n",
       "<style scoped>\n",
       "    .dataframe tbody tr th:only-of-type {\n",
       "        vertical-align: middle;\n",
       "    }\n",
       "\n",
       "    .dataframe tbody tr th {\n",
       "        vertical-align: top;\n",
       "    }\n",
       "\n",
       "    .dataframe thead th {\n",
       "        text-align: right;\n",
       "    }\n",
       "</style>\n",
       "<table border=\"1\" class=\"dataframe\">\n",
       "  <thead>\n",
       "    <tr style=\"text-align: right;\">\n",
       "      <th></th>\n",
       "      <th>main_language</th>\n",
       "      <th>total_issues_count</th>\n",
       "      <th>total_pull_requests_count</th>\n",
       "      <th>commits_count</th>\n",
       "      <th>branches_count</th>\n",
       "      <th>contributors_count</th>\n",
       "      <th>has_IRT</th>\n",
       "    </tr>\n",
       "  </thead>\n",
       "  <tbody>\n",
       "    <tr>\n",
       "      <th>0</th>\n",
       "      <td>183</td>\n",
       "      <td>747.0</td>\n",
       "      <td>330.0</td>\n",
       "      <td>3010.0</td>\n",
       "      <td>313.0</td>\n",
       "      <td>17.0</td>\n",
       "      <td>1</td>\n",
       "    </tr>\n",
       "    <tr>\n",
       "      <th>1</th>\n",
       "      <td>96</td>\n",
       "      <td>515.0</td>\n",
       "      <td>391.0</td>\n",
       "      <td>502.0</td>\n",
       "      <td>32.0</td>\n",
       "      <td>35.0</td>\n",
       "      <td>1</td>\n",
       "    </tr>\n",
       "    <tr>\n",
       "      <th>2</th>\n",
       "      <td>201</td>\n",
       "      <td>84.0</td>\n",
       "      <td>60.0</td>\n",
       "      <td>237.0</td>\n",
       "      <td>1.0</td>\n",
       "      <td>2.0</td>\n",
       "      <td>1</td>\n",
       "    </tr>\n",
       "    <tr>\n",
       "      <th>3</th>\n",
       "      <td>96</td>\n",
       "      <td>77.0</td>\n",
       "      <td>73.0</td>\n",
       "      <td>246.0</td>\n",
       "      <td>1.0</td>\n",
       "      <td>4.0</td>\n",
       "      <td>1</td>\n",
       "    </tr>\n",
       "    <tr>\n",
       "      <th>4</th>\n",
       "      <td>64</td>\n",
       "      <td>91.0</td>\n",
       "      <td>46.0</td>\n",
       "      <td>167.0</td>\n",
       "      <td>1.0</td>\n",
       "      <td>14.0</td>\n",
       "      <td>1</td>\n",
       "    </tr>\n",
       "    <tr>\n",
       "      <th>5</th>\n",
       "      <td>119</td>\n",
       "      <td>482.0</td>\n",
       "      <td>324.0</td>\n",
       "      <td>761.0</td>\n",
       "      <td>16.0</td>\n",
       "      <td>39.0</td>\n",
       "      <td>1</td>\n",
       "    </tr>\n",
       "    <tr>\n",
       "      <th>6</th>\n",
       "      <td>119</td>\n",
       "      <td>1991.0</td>\n",
       "      <td>1320.0</td>\n",
       "      <td>4236.0</td>\n",
       "      <td>5.0</td>\n",
       "      <td>84.0</td>\n",
       "      <td>1</td>\n",
       "    </tr>\n",
       "    <tr>\n",
       "      <th>7</th>\n",
       "      <td>201</td>\n",
       "      <td>554.0</td>\n",
       "      <td>292.0</td>\n",
       "      <td>528.0</td>\n",
       "      <td>11.0</td>\n",
       "      <td>50.0</td>\n",
       "      <td>1</td>\n",
       "    </tr>\n",
       "    <tr>\n",
       "      <th>8</th>\n",
       "      <td>35</td>\n",
       "      <td>102.0</td>\n",
       "      <td>25.0</td>\n",
       "      <td>2164.0</td>\n",
       "      <td>2.0</td>\n",
       "      <td>2.0</td>\n",
       "      <td>1</td>\n",
       "    </tr>\n",
       "    <tr>\n",
       "      <th>9</th>\n",
       "      <td>120</td>\n",
       "      <td>60.0</td>\n",
       "      <td>5.0</td>\n",
       "      <td>150.0</td>\n",
       "      <td>1.0</td>\n",
       "      <td>2.0</td>\n",
       "      <td>1</td>\n",
       "    </tr>\n",
       "  </tbody>\n",
       "</table>\n",
       "</div>"
      ],
      "text/plain": [
       "  main_language  total_issues_count  total_pull_requests_count  commits_count  \\\n",
       "0           183               747.0                      330.0         3010.0   \n",
       "1            96               515.0                      391.0          502.0   \n",
       "2           201                84.0                       60.0          237.0   \n",
       "3            96                77.0                       73.0          246.0   \n",
       "4            64                91.0                       46.0          167.0   \n",
       "5           119               482.0                      324.0          761.0   \n",
       "6           119              1991.0                     1320.0         4236.0   \n",
       "7           201               554.0                      292.0          528.0   \n",
       "8            35               102.0                       25.0         2164.0   \n",
       "9           120                60.0                        5.0          150.0   \n",
       "\n",
       "   branches_count  contributors_count  has_IRT  \n",
       "0           313.0                17.0        1  \n",
       "1            32.0                35.0        1  \n",
       "2             1.0                 2.0        1  \n",
       "3             1.0                 4.0        1  \n",
       "4             1.0                14.0        1  \n",
       "5            16.0                39.0        1  \n",
       "6             5.0                84.0        1  \n",
       "7            11.0                50.0        1  \n",
       "8             2.0                 2.0        1  \n",
       "9             1.0                 2.0        1  "
      ]
     },
     "execution_count": 18,
     "metadata": {},
     "output_type": "execute_result"
    }
   ],
   "source": [
    "df_repo_train[:10]"
   ]
  },
  {
   "cell_type": "code",
   "execution_count": 19,
   "id": "771db5c8-441a-4304-bdb5-8e23aaca1eca",
   "metadata": {},
   "outputs": [
    {
     "data": {
      "text/html": [
       "<div>\n",
       "<style scoped>\n",
       "    .dataframe tbody tr th:only-of-type {\n",
       "        vertical-align: middle;\n",
       "    }\n",
       "\n",
       "    .dataframe tbody tr th {\n",
       "        vertical-align: top;\n",
       "    }\n",
       "\n",
       "    .dataframe thead th {\n",
       "        text-align: right;\n",
       "    }\n",
       "</style>\n",
       "<table border=\"1\" class=\"dataframe\">\n",
       "  <thead>\n",
       "    <tr style=\"text-align: right;\">\n",
       "      <th></th>\n",
       "      <th>main_language</th>\n",
       "      <th>total_issues_count</th>\n",
       "      <th>total_pull_requests_count</th>\n",
       "      <th>commits_count</th>\n",
       "      <th>branches_count</th>\n",
       "      <th>contributors_count</th>\n",
       "      <th>has_IRT</th>\n",
       "    </tr>\n",
       "  </thead>\n",
       "  <tbody>\n",
       "    <tr>\n",
       "      <th>0</th>\n",
       "      <td>35</td>\n",
       "      <td>1026.0</td>\n",
       "      <td>675.0</td>\n",
       "      <td>1403.0</td>\n",
       "      <td>14.0</td>\n",
       "      <td>51.0</td>\n",
       "      <td>1</td>\n",
       "    </tr>\n",
       "    <tr>\n",
       "      <th>1</th>\n",
       "      <td>250</td>\n",
       "      <td>134.0</td>\n",
       "      <td>96.0</td>\n",
       "      <td>968.0</td>\n",
       "      <td>2.0</td>\n",
       "      <td>1.0</td>\n",
       "      <td>1</td>\n",
       "    </tr>\n",
       "    <tr>\n",
       "      <th>2</th>\n",
       "      <td>201</td>\n",
       "      <td>154.0</td>\n",
       "      <td>143.0</td>\n",
       "      <td>138.0</td>\n",
       "      <td>10.0</td>\n",
       "      <td>18.0</td>\n",
       "      <td>1</td>\n",
       "    </tr>\n",
       "    <tr>\n",
       "      <th>3</th>\n",
       "      <td>201</td>\n",
       "      <td>163.0</td>\n",
       "      <td>84.0</td>\n",
       "      <td>481.0</td>\n",
       "      <td>12.0</td>\n",
       "      <td>16.0</td>\n",
       "      <td>1</td>\n",
       "    </tr>\n",
       "    <tr>\n",
       "      <th>4</th>\n",
       "      <td>201</td>\n",
       "      <td>2173.0</td>\n",
       "      <td>1390.0</td>\n",
       "      <td>1456.0</td>\n",
       "      <td>11.0</td>\n",
       "      <td>138.0</td>\n",
       "      <td>1</td>\n",
       "    </tr>\n",
       "    <tr>\n",
       "      <th>5</th>\n",
       "      <td>258</td>\n",
       "      <td>23.0</td>\n",
       "      <td>14.0</td>\n",
       "      <td>131.0</td>\n",
       "      <td>4.0</td>\n",
       "      <td>4.0</td>\n",
       "      <td>1</td>\n",
       "    </tr>\n",
       "    <tr>\n",
       "      <th>6</th>\n",
       "      <td>258</td>\n",
       "      <td>376.0</td>\n",
       "      <td>373.0</td>\n",
       "      <td>743.0</td>\n",
       "      <td>2.0</td>\n",
       "      <td>4.0</td>\n",
       "      <td>1</td>\n",
       "    </tr>\n",
       "    <tr>\n",
       "      <th>7</th>\n",
       "      <td>35</td>\n",
       "      <td>46.0</td>\n",
       "      <td>31.0</td>\n",
       "      <td>78.0</td>\n",
       "      <td>1.0</td>\n",
       "      <td>3.0</td>\n",
       "      <td>1</td>\n",
       "    </tr>\n",
       "    <tr>\n",
       "      <th>8</th>\n",
       "      <td>120</td>\n",
       "      <td>5420.0</td>\n",
       "      <td>753.0</td>\n",
       "      <td>3114.0</td>\n",
       "      <td>12.0</td>\n",
       "      <td>250.0</td>\n",
       "      <td>1</td>\n",
       "    </tr>\n",
       "    <tr>\n",
       "      <th>9</th>\n",
       "      <td>120</td>\n",
       "      <td>2144.0</td>\n",
       "      <td>866.0</td>\n",
       "      <td>2887.0</td>\n",
       "      <td>33.0</td>\n",
       "      <td>225.0</td>\n",
       "      <td>1</td>\n",
       "    </tr>\n",
       "  </tbody>\n",
       "</table>\n",
       "</div>"
      ],
      "text/plain": [
       "  main_language  total_issues_count  total_pull_requests_count  commits_count  \\\n",
       "0            35              1026.0                      675.0         1403.0   \n",
       "1           250               134.0                       96.0          968.0   \n",
       "2           201               154.0                      143.0          138.0   \n",
       "3           201               163.0                       84.0          481.0   \n",
       "4           201              2173.0                     1390.0         1456.0   \n",
       "5           258                23.0                       14.0          131.0   \n",
       "6           258               376.0                      373.0          743.0   \n",
       "7            35                46.0                       31.0           78.0   \n",
       "8           120              5420.0                      753.0         3114.0   \n",
       "9           120              2144.0                      866.0         2887.0   \n",
       "\n",
       "   branches_count  contributors_count  has_IRT  \n",
       "0            14.0                51.0        1  \n",
       "1             2.0                 1.0        1  \n",
       "2            10.0                18.0        1  \n",
       "3            12.0                16.0        1  \n",
       "4            11.0               138.0        1  \n",
       "5             4.0                 4.0        1  \n",
       "6             2.0                 4.0        1  \n",
       "7             1.0                 3.0        1  \n",
       "8            12.0               250.0        1  \n",
       "9            33.0               225.0        1  "
      ]
     },
     "execution_count": 19,
     "metadata": {},
     "output_type": "execute_result"
    }
   ],
   "source": [
    "df_repo_test[:10]"
   ]
  },
  {
   "cell_type": "markdown",
   "id": "1badad4b-a545-49ab-98d0-af129a3788bb",
   "metadata": {},
   "source": [
    "Initialize SVM models to be trained"
   ]
  },
  {
   "cell_type": "code",
   "execution_count": 20,
   "id": "9ca8aab6-9514-4a71-8ded-63de61d73268",
   "metadata": {},
   "outputs": [
    {
     "name": "stdout",
     "output_type": "stream",
     "text": [
      "[SVC(), SVC(), SVC(), SVC(), SVC(), SVC()]\n"
     ]
    }
   ],
   "source": [
    "svm_classifiers = [svm.SVC(kernel='rbf') for i in range(df_repo_train.shape[1]-1)]\n",
    "print(svm_classifiers)"
   ]
  },
  {
   "cell_type": "markdown",
   "id": "5c6d44f9-0b16-401f-9b64-7f5d142c297b",
   "metadata": {},
   "source": [
    "Train the models. Each SVM model's parameters will be stored in the current working director so that it can be loaded and used later"
   ]
  },
  {
   "cell_type": "code",
   "execution_count": 21,
   "id": "0a026215-7576-47df-ba77-41943b2409fe",
   "metadata": {},
   "outputs": [],
   "source": [
    "domain_train = np.array(df_repo_train.iloc[:, df_repo_train.shape[1]-1])\n",
    "for i in range(len(svm_classifiers)):\n",
    "    if not os.path.exists(f'./svm_{df_repo_train.columns[0]}.pkl'):\n",
    "        feature = np.array(df_repo_train.iloc[:,i]).reshape(-1,1)\n",
    "        start = time.time()\n",
    "        svm_classifiers[i].fit(feature, domain_train)\n",
    "        stop = time.time()\n",
    "        with open(f'svm_{df_repo_train.columns[i]}.pkl','wb') as f:\n",
    "            pickle.dump(svm_classifiers[i],f)\n",
    "        print(f'**** Saved svm_{df_repo_train.columns[i]} in {os.getcwd()} [Training Time = {(stop - start) / 60}min] ****')"
   ]
  },
  {
   "cell_type": "markdown",
   "id": "462ebf9b-243b-4c83-b289-c86d04303904",
   "metadata": {},
   "source": [
    "Models are saved in the current working directory. Retrieve them to assess their performance"
   ]
  },
  {
   "cell_type": "code",
   "execution_count": 22,
   "id": "b6a2962f-5be9-4cb0-8510-b8a310df53d2",
   "metadata": {},
   "outputs": [],
   "source": [
    "for i in range(len(svm_classifiers)):\n",
    "    with open(f'svm_{df_repo_train.columns[i]}.pkl', 'rb') as f:\n",
    "        svm_classifiers[i] = pickle.load(f)"
   ]
  },
  {
   "cell_type": "markdown",
   "id": "63d9f305-fb44-4e46-9b29-18442650b70f",
   "metadata": {},
   "source": [
    "Assess the performance of the models with the test holdout and compute their accuracy"
   ]
  },
  {
   "cell_type": "code",
   "execution_count": 23,
   "id": "b7a326f8-bd5a-4b6a-8aea-59a480c84550",
   "metadata": {},
   "outputs": [
    {
     "name": "stdout",
     "output_type": "stream",
     "text": [
      "Accuracy: svm_main_language 0.265\n",
      "Accuracy: svm_total_issues_count 0.598\n",
      "Accuracy: svm_total_pull_requests_count 0.563\n",
      "Accuracy: svm_commits_count 0.523\n",
      "Accuracy: svm_branches_count 0.447\n",
      "Accuracy: svm_contributors_count 0.598\n"
     ]
    }
   ],
   "source": [
    "domain_test = np.array(df_repo_test.iloc[:10**3, df_repo_test.shape[1]-1])\n",
    "for i in range(len(svm_classifiers)):\n",
    "    feature = np.array(df_repo_test.iloc[:10**3,i]).reshape(-1,1)\n",
    "    domain_pred = svm_classifiers[i].predict(feature)\n",
    "    accuracy = accuracy_score(domain_test, domain_pred)\n",
    "    print(f\"Accuracy: svm_{df_repo_test.columns[i]}\", accuracy)"
   ]
  },
  {
   "cell_type": "markdown",
   "id": "97ff40f7-6107-46ce-82cb-52e4216e2154",
   "metadata": {},
   "source": [
    "Set the significance threshold to reject null hypothesis for the statistical tests to be conducted"
   ]
  },
  {
   "cell_type": "code",
   "execution_count": 24,
   "id": "18e929e0-4f2a-40c3-9463-b7b8968f6e36",
   "metadata": {},
   "outputs": [],
   "source": [
    "significance = 0.05"
   ]
  },
  {
   "cell_type": "markdown",
   "id": "52e0cec5-24de-48f7-9226-28b709ce245e",
   "metadata": {},
   "source": [
    "Map programming languages to integers"
   ]
  },
  {
   "cell_type": "code",
   "execution_count": 25,
   "id": "b87eb501-e527-4596-aae7-a2a9a414b429",
   "metadata": {},
   "outputs": [],
   "source": [
    "temp_IRT = np.array(df_repo_hasIRT['main_language'])\n",
    "temp_noIRT = np.array(df_repo_noIRT['main_language'])\n",
    "\n",
    "for i in range(len(temp_IRT)):\n",
    "    temp_IRT[i] = lang_encodings[temp_IRT[i]]\n",
    "\n",
    "for i in range(len(temp_noIRT)):\n",
    "    temp_noIRT[i] = lang_encodings[temp_noIRT[i]]"
   ]
  },
  {
   "cell_type": "markdown",
   "id": "ea511b83-e072-434a-9968-8d67aa664668",
   "metadata": {},
   "source": [
    "Update the datasets accordingly"
   ]
  },
  {
   "cell_type": "code",
   "execution_count": 26,
   "id": "b9190288-fd6c-4302-ab15-2899f9d772a7",
   "metadata": {},
   "outputs": [],
   "source": [
    "df_repo_hasIRT.loc[:, 'main_language'] = temp_IRT\n",
    "df_repo_noIRT.loc[:, 'main_language'] = temp_noIRT"
   ]
  },
  {
   "cell_type": "markdown",
   "id": "8d81454f-e9f2-47b3-a6b8-656019d45b98",
   "metadata": {},
   "source": [
    "Make it so that the indexes of the datasets start from 0"
   ]
  },
  {
   "cell_type": "code",
   "execution_count": 27,
   "id": "2ff4d293-3ac6-4a9a-a135-e818166a5037",
   "metadata": {},
   "outputs": [],
   "source": [
    "df_repo_hasIRT.reset_index(drop=True, inplace=True)\n",
    "df_repo_noIRT.reset_index(drop=True, inplace=True)"
   ]
  },
  {
   "cell_type": "code",
   "execution_count": 28,
   "id": "dfbcc44c-f4d8-4058-b336-48b5866cf6a6",
   "metadata": {},
   "outputs": [
    {
     "data": {
      "text/html": [
       "<div>\n",
       "<style scoped>\n",
       "    .dataframe tbody tr th:only-of-type {\n",
       "        vertical-align: middle;\n",
       "    }\n",
       "\n",
       "    .dataframe tbody tr th {\n",
       "        vertical-align: top;\n",
       "    }\n",
       "\n",
       "    .dataframe thead th {\n",
       "        text-align: right;\n",
       "    }\n",
       "</style>\n",
       "<table border=\"1\" class=\"dataframe\">\n",
       "  <thead>\n",
       "    <tr style=\"text-align: right;\">\n",
       "      <th></th>\n",
       "      <th>main_language</th>\n",
       "      <th>total_issues_count</th>\n",
       "      <th>total_pull_requests_count</th>\n",
       "      <th>commits_count</th>\n",
       "      <th>branches_count</th>\n",
       "      <th>contributors_count</th>\n",
       "      <th>has_IRT</th>\n",
       "    </tr>\n",
       "  </thead>\n",
       "  <tbody>\n",
       "    <tr>\n",
       "      <th>0</th>\n",
       "      <td>183</td>\n",
       "      <td>747.0</td>\n",
       "      <td>330.0</td>\n",
       "      <td>3010.0</td>\n",
       "      <td>313.0</td>\n",
       "      <td>17.0</td>\n",
       "      <td>True</td>\n",
       "    </tr>\n",
       "    <tr>\n",
       "      <th>1</th>\n",
       "      <td>96</td>\n",
       "      <td>515.0</td>\n",
       "      <td>391.0</td>\n",
       "      <td>502.0</td>\n",
       "      <td>32.0</td>\n",
       "      <td>35.0</td>\n",
       "      <td>True</td>\n",
       "    </tr>\n",
       "    <tr>\n",
       "      <th>2</th>\n",
       "      <td>201</td>\n",
       "      <td>84.0</td>\n",
       "      <td>60.0</td>\n",
       "      <td>237.0</td>\n",
       "      <td>1.0</td>\n",
       "      <td>2.0</td>\n",
       "      <td>True</td>\n",
       "    </tr>\n",
       "    <tr>\n",
       "      <th>3</th>\n",
       "      <td>96</td>\n",
       "      <td>77.0</td>\n",
       "      <td>73.0</td>\n",
       "      <td>246.0</td>\n",
       "      <td>1.0</td>\n",
       "      <td>4.0</td>\n",
       "      <td>True</td>\n",
       "    </tr>\n",
       "    <tr>\n",
       "      <th>4</th>\n",
       "      <td>64</td>\n",
       "      <td>91.0</td>\n",
       "      <td>46.0</td>\n",
       "      <td>167.0</td>\n",
       "      <td>1.0</td>\n",
       "      <td>14.0</td>\n",
       "      <td>True</td>\n",
       "    </tr>\n",
       "    <tr>\n",
       "      <th>5</th>\n",
       "      <td>119</td>\n",
       "      <td>482.0</td>\n",
       "      <td>324.0</td>\n",
       "      <td>761.0</td>\n",
       "      <td>16.0</td>\n",
       "      <td>39.0</td>\n",
       "      <td>True</td>\n",
       "    </tr>\n",
       "    <tr>\n",
       "      <th>6</th>\n",
       "      <td>119</td>\n",
       "      <td>1991.0</td>\n",
       "      <td>1320.0</td>\n",
       "      <td>4236.0</td>\n",
       "      <td>5.0</td>\n",
       "      <td>84.0</td>\n",
       "      <td>True</td>\n",
       "    </tr>\n",
       "    <tr>\n",
       "      <th>7</th>\n",
       "      <td>201</td>\n",
       "      <td>554.0</td>\n",
       "      <td>292.0</td>\n",
       "      <td>528.0</td>\n",
       "      <td>11.0</td>\n",
       "      <td>50.0</td>\n",
       "      <td>True</td>\n",
       "    </tr>\n",
       "    <tr>\n",
       "      <th>8</th>\n",
       "      <td>35</td>\n",
       "      <td>102.0</td>\n",
       "      <td>25.0</td>\n",
       "      <td>2164.0</td>\n",
       "      <td>2.0</td>\n",
       "      <td>2.0</td>\n",
       "      <td>True</td>\n",
       "    </tr>\n",
       "    <tr>\n",
       "      <th>9</th>\n",
       "      <td>120</td>\n",
       "      <td>60.0</td>\n",
       "      <td>5.0</td>\n",
       "      <td>150.0</td>\n",
       "      <td>1.0</td>\n",
       "      <td>2.0</td>\n",
       "      <td>True</td>\n",
       "    </tr>\n",
       "  </tbody>\n",
       "</table>\n",
       "</div>"
      ],
      "text/plain": [
       "  main_language  total_issues_count  total_pull_requests_count  commits_count  \\\n",
       "0           183               747.0                      330.0         3010.0   \n",
       "1            96               515.0                      391.0          502.0   \n",
       "2           201                84.0                       60.0          237.0   \n",
       "3            96                77.0                       73.0          246.0   \n",
       "4            64                91.0                       46.0          167.0   \n",
       "5           119               482.0                      324.0          761.0   \n",
       "6           119              1991.0                     1320.0         4236.0   \n",
       "7           201               554.0                      292.0          528.0   \n",
       "8            35               102.0                       25.0         2164.0   \n",
       "9           120                60.0                        5.0          150.0   \n",
       "\n",
       "   branches_count  contributors_count  has_IRT  \n",
       "0           313.0                17.0     True  \n",
       "1            32.0                35.0     True  \n",
       "2             1.0                 2.0     True  \n",
       "3             1.0                 4.0     True  \n",
       "4             1.0                14.0     True  \n",
       "5            16.0                39.0     True  \n",
       "6             5.0                84.0     True  \n",
       "7            11.0                50.0     True  \n",
       "8             2.0                 2.0     True  \n",
       "9             1.0                 2.0     True  "
      ]
     },
     "execution_count": 28,
     "metadata": {},
     "output_type": "execute_result"
    }
   ],
   "source": [
    "df_repo_hasIRT[:10]"
   ]
  },
  {
   "cell_type": "code",
   "execution_count": 29,
   "id": "816664ad-1a67-4962-91be-55f3a958116e",
   "metadata": {},
   "outputs": [
    {
     "data": {
      "text/html": [
       "<div>\n",
       "<style scoped>\n",
       "    .dataframe tbody tr th:only-of-type {\n",
       "        vertical-align: middle;\n",
       "    }\n",
       "\n",
       "    .dataframe tbody tr th {\n",
       "        vertical-align: top;\n",
       "    }\n",
       "\n",
       "    .dataframe thead th {\n",
       "        text-align: right;\n",
       "    }\n",
       "</style>\n",
       "<table border=\"1\" class=\"dataframe\">\n",
       "  <thead>\n",
       "    <tr style=\"text-align: right;\">\n",
       "      <th></th>\n",
       "      <th>main_language</th>\n",
       "      <th>total_issues_count</th>\n",
       "      <th>total_pull_requests_count</th>\n",
       "      <th>commits_count</th>\n",
       "      <th>branches_count</th>\n",
       "      <th>contributors_count</th>\n",
       "      <th>has_IRT</th>\n",
       "    </tr>\n",
       "  </thead>\n",
       "  <tbody>\n",
       "    <tr>\n",
       "      <th>0</th>\n",
       "      <td>119</td>\n",
       "      <td>2.0</td>\n",
       "      <td>1.0</td>\n",
       "      <td>6.0</td>\n",
       "      <td>1.0</td>\n",
       "      <td>1.0</td>\n",
       "      <td>False</td>\n",
       "    </tr>\n",
       "    <tr>\n",
       "      <th>1</th>\n",
       "      <td>183</td>\n",
       "      <td>10.0</td>\n",
       "      <td>2.0</td>\n",
       "      <td>18.0</td>\n",
       "      <td>1.0</td>\n",
       "      <td>2.0</td>\n",
       "      <td>False</td>\n",
       "    </tr>\n",
       "    <tr>\n",
       "      <th>2</th>\n",
       "      <td>233</td>\n",
       "      <td>27.0</td>\n",
       "      <td>27.0</td>\n",
       "      <td>42.0</td>\n",
       "      <td>4.0</td>\n",
       "      <td>10.0</td>\n",
       "      <td>False</td>\n",
       "    </tr>\n",
       "    <tr>\n",
       "      <th>3</th>\n",
       "      <td>35</td>\n",
       "      <td>1.0</td>\n",
       "      <td>0.0</td>\n",
       "      <td>53.0</td>\n",
       "      <td>3.0</td>\n",
       "      <td>1.0</td>\n",
       "      <td>False</td>\n",
       "    </tr>\n",
       "    <tr>\n",
       "      <th>4</th>\n",
       "      <td>96</td>\n",
       "      <td>8.0</td>\n",
       "      <td>6.0</td>\n",
       "      <td>56.0</td>\n",
       "      <td>2.0</td>\n",
       "      <td>1.0</td>\n",
       "      <td>False</td>\n",
       "    </tr>\n",
       "    <tr>\n",
       "      <th>5</th>\n",
       "      <td>34</td>\n",
       "      <td>9.0</td>\n",
       "      <td>2.0</td>\n",
       "      <td>41.0</td>\n",
       "      <td>1.0</td>\n",
       "      <td>2.0</td>\n",
       "      <td>False</td>\n",
       "    </tr>\n",
       "    <tr>\n",
       "      <th>6</th>\n",
       "      <td>120</td>\n",
       "      <td>36.0</td>\n",
       "      <td>26.0</td>\n",
       "      <td>69.0</td>\n",
       "      <td>10.0</td>\n",
       "      <td>13.0</td>\n",
       "      <td>False</td>\n",
       "    </tr>\n",
       "    <tr>\n",
       "      <th>7</th>\n",
       "      <td>120</td>\n",
       "      <td>1.0</td>\n",
       "      <td>1.0</td>\n",
       "      <td>206.0</td>\n",
       "      <td>2.0</td>\n",
       "      <td>2.0</td>\n",
       "      <td>False</td>\n",
       "    </tr>\n",
       "    <tr>\n",
       "      <th>8</th>\n",
       "      <td>119</td>\n",
       "      <td>0.0</td>\n",
       "      <td>0.0</td>\n",
       "      <td>15.0</td>\n",
       "      <td>1.0</td>\n",
       "      <td>1.0</td>\n",
       "      <td>False</td>\n",
       "    </tr>\n",
       "    <tr>\n",
       "      <th>9</th>\n",
       "      <td>120</td>\n",
       "      <td>0.0</td>\n",
       "      <td>0.0</td>\n",
       "      <td>7.0</td>\n",
       "      <td>3.0</td>\n",
       "      <td>1.0</td>\n",
       "      <td>False</td>\n",
       "    </tr>\n",
       "  </tbody>\n",
       "</table>\n",
       "</div>"
      ],
      "text/plain": [
       "  main_language  total_issues_count  total_pull_requests_count  commits_count  \\\n",
       "0           119                 2.0                        1.0            6.0   \n",
       "1           183                10.0                        2.0           18.0   \n",
       "2           233                27.0                       27.0           42.0   \n",
       "3            35                 1.0                        0.0           53.0   \n",
       "4            96                 8.0                        6.0           56.0   \n",
       "5            34                 9.0                        2.0           41.0   \n",
       "6           120                36.0                       26.0           69.0   \n",
       "7           120                 1.0                        1.0          206.0   \n",
       "8           119                 0.0                        0.0           15.0   \n",
       "9           120                 0.0                        0.0            7.0   \n",
       "\n",
       "   branches_count  contributors_count  has_IRT  \n",
       "0             1.0                 1.0    False  \n",
       "1             1.0                 2.0    False  \n",
       "2             4.0                10.0    False  \n",
       "3             3.0                 1.0    False  \n",
       "4             2.0                 1.0    False  \n",
       "5             1.0                 2.0    False  \n",
       "6            10.0                13.0    False  \n",
       "7             2.0                 2.0    False  \n",
       "8             1.0                 1.0    False  \n",
       "9             3.0                 1.0    False  "
      ]
     },
     "execution_count": 29,
     "metadata": {},
     "output_type": "execute_result"
    }
   ],
   "source": [
    "df_repo_noIRT[:10]"
   ]
  },
  {
   "cell_type": "markdown",
   "id": "82e2c75f-4ce8-4af0-a7b6-5c72265bda27",
   "metadata": {},
   "source": [
    "Down below a function to do statistical tests have been provided"
   ]
  },
  {
   "cell_type": "code",
   "execution_count": 30,
   "id": "ad12ca8f-693a-43cb-9d23-6b069891edae",
   "metadata": {},
   "outputs": [],
   "source": [
    "def statistical_test(dataframe1, dataframe2, method, nsamples=1000):\n",
    "    assert (method == 'kolmogorov' or method == 'wilcoxon') and (dataframe1.shape[1]-1 == 6 and dataframe2.shape[1]-1 == 6)\n",
    "    for i in range(len(dataframe1.columns)-1):\n",
    "        feature1 = np.array(dataframe1.iloc[:1000,i])\n",
    "        feature2 = np.array(dataframe2.iloc[:1000,i])\n",
    "        if method == 'kolmogorov':\n",
    "            statistic, p_value = ks_2samp(feature1, feature2)\n",
    "        else:\n",
    "            statistic, p_value = wilcoxon(feature1, feature2)\n",
    "        print(f\"{df_repo_hasIRT.columns[i]}: p-value = {p_value}, Reject:{p_value < significance}\")"
   ]
  },
  {
   "cell_type": "markdown",
   "id": "07cd8145-735e-4a2c-82ea-4d9b68ae63ad",
   "metadata": {},
   "source": [
    "Do the Kolmogorov statistical test"
   ]
  },
  {
   "cell_type": "code",
   "execution_count": 31,
   "id": "cdcf96ee-66b8-40a2-bd47-e0019097d311",
   "metadata": {},
   "outputs": [
    {
     "name": "stdout",
     "output_type": "stream",
     "text": [
      "main_language: p-value = 1.3433151993983066e-08, Reject:True\n",
      "total_issues_count: p-value = 6.049929117922466e-147, Reject:True\n",
      "total_pull_requests_count: p-value = 1.2241554841493768e-136, Reject:True\n",
      "commits_count: p-value = 2.8710761438357397e-121, Reject:True\n",
      "branches_count: p-value = 5.766493709529924e-73, Reject:True\n",
      "contributors_count: p-value = 4.024949143971253e-97, Reject:True\n"
     ]
    }
   ],
   "source": [
    "statistical_test(df_repo_hasIRT, df_repo_noIRT, 'kolmogorov')"
   ]
  },
  {
   "cell_type": "markdown",
   "id": "574e08ac-9582-493e-9a18-4b57aeb790d9",
   "metadata": {},
   "source": [
    "Do the Wilcoxon statistical test"
   ]
  },
  {
   "cell_type": "code",
   "execution_count": 32,
   "id": "97769ccf-d55c-42df-9039-eaacd05098d1",
   "metadata": {},
   "outputs": [
    {
     "name": "stdout",
     "output_type": "stream",
     "text": [
      "main_language: p-value = 1.0112821797642376e-06, Reject:True\n",
      "total_issues_count: p-value = 5.069515053534561e-110, Reject:True\n",
      "total_pull_requests_count: p-value = 1.5088191838766006e-102, Reject:True\n",
      "commits_count: p-value = 2.9997055439990583e-97, Reject:True\n",
      "branches_count: p-value = 5.404991665605145e-61, Reject:True\n",
      "contributors_count: p-value = 1.008121651306902e-81, Reject:True\n"
     ]
    }
   ],
   "source": [
    "statistical_test(df_repo_hasIRT, df_repo_noIRT, 'wilcoxon')"
   ]
  },
  {
   "cell_type": "markdown",
   "id": "00aa34b6-f617-4ff3-ab38-dd4d371fa60f",
   "metadata": {},
   "source": [
    "Conclude that the distributions are different indeed"
   ]
  },
  {
   "cell_type": "markdown",
   "id": "a49d856a-70ea-4876-bcb5-cddcb2f9c1f7",
   "metadata": {},
   "source": [
    "Find a value such that 99% of the data lies before that index, then make a kernel density plot of it (i.e. probability density plot). Down below a function to do this has been provided"
   ]
  },
  {
   "cell_type": "code",
   "execution_count": 33,
   "id": "51698ad0-6b58-42d2-a269-42016c3d3e5d",
   "metadata": {},
   "outputs": [],
   "source": [
    "def distribution(dataframe, title, colors=['red', 'blue', 'green', 'orange', 'purple', 'cyan']):\n",
    "    assert dataframe.shape[1]-1 == 6 and len(colors) == 6\n",
    "    fig, axes = plt.subplots(2, 3, figsize=(10, 5))\n",
    "    fig.suptitle(title, fontsize=16, fontweight='bold')\n",
    "    axes = axes.flatten()\n",
    "    for i in range(len(axes)):\n",
    "        percentile_99 = np.percentile(dataframe.iloc[:,i], 99)\n",
    "        sns.kdeplot(dataframe.iloc[:,i], ax=axes[i], fill=True, color=colors[i]) \n",
    "        axes[i].set_title(f'{dataframe.columns[i]}')\n",
    "        axes[i].set_xlim(0, percentile_99)\n",
    "        axes[i].set_xlabel('metric value')\n",
    "        axes[i].set_ylabel('density')\n",
    "    plt.tight_layout()\n",
    "    plt.show()"
   ]
  },
  {
   "cell_type": "markdown",
   "id": "280fad87-92fb-413d-a698-e9e8fb568673",
   "metadata": {},
   "source": [
    "Visualize kernel density plots of repositories with IRTs"
   ]
  },
  {
   "cell_type": "code",
   "execution_count": 34,
   "id": "52b8abdb-cdaf-4e0e-9fc0-162f576f2726",
   "metadata": {},
   "outputs": [
    {
     "data": {
      "image/png": "[encoded data removed]",
      "text/plain": [
       "<Figure size 1000x500 with 6 Axes>"
      ]
     },
     "metadata": {},
     "output_type": "display_data"
    }
   ],
   "source": [
    "distribution(df_repo_hasIRT, 'hasIRT')"
   ]
  },
  {
   "cell_type": "markdown",
   "id": "0593c500-b117-4e51-b8a4-9321e68434e6",
   "metadata": {},
   "source": [
    "Visualize kernel density plots of repositories with no IRTs"
   ]
  },
  {
   "cell_type": "code",
   "execution_count": 49,
   "id": "c6b09827-5284-45e0-b829-f4f26a8a9edc",
   "metadata": {
    "scrolled": true
   },
   "outputs": [
    {
     "data": {
      "image/png": "[encoded data removed]",
      "text/plain": [
       "<Figure size 1000x500 with 6 Axes>"
      ]
     },
     "metadata": {},
     "output_type": "display_data"
    }
   ],
   "source": [
    "distribution(df_repo_noIRT, 'noIRT')"
   ]
  },
  {
   "cell_type": "code",
   "execution_count": 36,
   "id": "97f7047b-1f8b-477d-a308-8db4feb28a6c",
   "metadata": {},
   "outputs": [],
   "source": [
    "def boxplots(dataframe1, dataframe2, colors=['red', 'blue', 'green', 'orange', 'purple', 'cyan']):\n",
    "    fig, axes = plt.subplots(nrows=2, ncols=3, figsize=(10, 5))\n",
    "    axes = axes.flatten()\n",
    "    for i in range(len(axes)-1):\n",
    "        attr = dataframe1.columns[i+1]\n",
    "        percentile_99_df1 = dataframe1[attr].quantile(0.90)\n",
    "        percentile_99_df2 = dataframe2[attr].quantile(0.90)\n",
    "        dataframe1_temp = dataframe1[dataframe1[attr] <= percentile_99_df1]\n",
    "        dataframe2_temp = dataframe2[dataframe2[attr] <= percentile_99_df2]\n",
    "        sample = pd.concat([\n",
    "            dataframe1_temp[[attr, 'has_IRT']],\n",
    "            dataframe2_temp[[attr, 'has_IRT']]\n",
    "        ], ignore_index=True)\n",
    "        sample['has_IRT'] = np.where(sample['has_IRT'], 1, 0) \n",
    "        sns.boxplot(data=sample, y=attr, x='has_IRT', ax=axes[i], color=colors[i])\n",
    "        axes[i].set_title(attr)\n",
    "\n",
    "    for ax in axes.flat:\n",
    "        if not bool(ax.has_data()):\n",
    "            fig.delaxes(ax)\n",
    "    plt.tight_layout()\n",
    "    plt.show()\n"
   ]
  },
  {
   "cell_type": "code",
   "execution_count": 37,
   "id": "0688501e-42e3-43ec-832d-75e82963d319",
   "metadata": {},
   "outputs": [
    {
     "data": {
      "image/png": "[encoded data removed]",
      "text/plain": [
       "<Figure size 1000x500 with 5 Axes>"
      ]
     },
     "metadata": {},
     "output_type": "display_data"
    }
   ],
   "source": [
    "boxplots(df_repo_hasIRT, df_repo_noIRT)"
   ]
  },
  {
   "cell_type": "code",
   "execution_count": 38,
   "id": "ee668515-03a1-49c7-9e6f-79445f40de00",
   "metadata": {},
   "outputs": [
    {
     "data": {
      "text/html": [
       "<div>\n",
       "<style scoped>\n",
       "    .dataframe tbody tr th:only-of-type {\n",
       "        vertical-align: middle;\n",
       "    }\n",
       "\n",
       "    .dataframe tbody tr th {\n",
       "        vertical-align: top;\n",
       "    }\n",
       "\n",
       "    .dataframe thead th {\n",
       "        text-align: right;\n",
       "    }\n",
       "</style>\n",
       "<table border=\"1\" class=\"dataframe\">\n",
       "  <thead>\n",
       "    <tr style=\"text-align: right;\">\n",
       "      <th></th>\n",
       "      <th>main_language</th>\n",
       "    </tr>\n",
       "  </thead>\n",
       "  <tbody>\n",
       "    <tr>\n",
       "      <th>count</th>\n",
       "      <td>50032</td>\n",
       "    </tr>\n",
       "    <tr>\n",
       "      <th>unique</th>\n",
       "      <td>120</td>\n",
       "    </tr>\n",
       "    <tr>\n",
       "      <th>top</th>\n",
       "      <td>201</td>\n",
       "    </tr>\n",
       "    <tr>\n",
       "      <th>freq</th>\n",
       "      <td>9139</td>\n",
       "    </tr>\n",
       "  </tbody>\n",
       "</table>\n",
       "</div>"
      ],
      "text/plain": [
       "        main_language\n",
       "count           50032\n",
       "unique            120\n",
       "top               201\n",
       "freq             9139"
      ]
     },
     "execution_count": 38,
     "metadata": {},
     "output_type": "execute_result"
    }
   ],
   "source": [
    "df_repo_hasIRT[['main_language']].describe()"
   ]
  },
  {
   "cell_type": "code",
   "execution_count": 39,
   "id": "99e422d9-ddf3-4434-9acc-188564642015",
   "metadata": {},
   "outputs": [
    {
     "data": {
      "text/html": [
       "<div>\n",
       "<style scoped>\n",
       "    .dataframe tbody tr th:only-of-type {\n",
       "        vertical-align: middle;\n",
       "    }\n",
       "\n",
       "    .dataframe tbody tr th {\n",
       "        vertical-align: top;\n",
       "    }\n",
       "\n",
       "    .dataframe thead th {\n",
       "        text-align: right;\n",
       "    }\n",
       "</style>\n",
       "<table border=\"1\" class=\"dataframe\">\n",
       "  <thead>\n",
       "    <tr style=\"text-align: right;\">\n",
       "      <th></th>\n",
       "      <th>main_language</th>\n",
       "    </tr>\n",
       "  </thead>\n",
       "  <tbody>\n",
       "    <tr>\n",
       "      <th>count</th>\n",
       "      <td>1034268</td>\n",
       "    </tr>\n",
       "    <tr>\n",
       "      <th>unique</th>\n",
       "      <td>284</td>\n",
       "    </tr>\n",
       "    <tr>\n",
       "      <th>top</th>\n",
       "      <td>120</td>\n",
       "    </tr>\n",
       "    <tr>\n",
       "      <th>freq</th>\n",
       "      <td>224279</td>\n",
       "    </tr>\n",
       "  </tbody>\n",
       "</table>\n",
       "</div>"
      ],
      "text/plain": [
       "        main_language\n",
       "count         1034268\n",
       "unique            284\n",
       "top               120\n",
       "freq           224279"
      ]
     },
     "execution_count": 39,
     "metadata": {},
     "output_type": "execute_result"
    }
   ],
   "source": [
    "df_repo_noIRT[['main_language']].describe()"
   ]
  },
  {
   "cell_type": "code",
   "execution_count": 40,
   "id": "eda03347-ce53-4a55-9ddb-99587be492a4",
   "metadata": {},
   "outputs": [
    {
     "data": {
      "text/html": [
       "<div>\n",
       "<style scoped>\n",
       "    .dataframe tbody tr th:only-of-type {\n",
       "        vertical-align: middle;\n",
       "    }\n",
       "\n",
       "    .dataframe tbody tr th {\n",
       "        vertical-align: top;\n",
       "    }\n",
       "\n",
       "    .dataframe thead th {\n",
       "        text-align: right;\n",
       "    }\n",
       "</style>\n",
       "<table border=\"1\" class=\"dataframe\">\n",
       "  <thead>\n",
       "    <tr style=\"text-align: right;\">\n",
       "      <th></th>\n",
       "      <th>total_issues_count</th>\n",
       "      <th>total_pull_requests_count</th>\n",
       "      <th>commits_count</th>\n",
       "      <th>branches_count</th>\n",
       "      <th>contributors_count</th>\n",
       "    </tr>\n",
       "  </thead>\n",
       "  <tbody>\n",
       "    <tr>\n",
       "      <th>count</th>\n",
       "      <td>50032.000000</td>\n",
       "      <td>50032.000000</td>\n",
       "      <td>50032.000000</td>\n",
       "      <td>50032.000000</td>\n",
       "      <td>50032.000000</td>\n",
       "    </tr>\n",
       "    <tr>\n",
       "      <th>mean</th>\n",
       "      <td>692.527762</td>\n",
       "      <td>379.188679</td>\n",
       "      <td>1567.750640</td>\n",
       "      <td>18.068956</td>\n",
       "      <td>34.833227</td>\n",
       "    </tr>\n",
       "    <tr>\n",
       "      <th>std</th>\n",
       "      <td>2667.991723</td>\n",
       "      <td>1452.136572</td>\n",
       "      <td>6549.474475</td>\n",
       "      <td>93.613874</td>\n",
       "      <td>119.074927</td>\n",
       "    </tr>\n",
       "    <tr>\n",
       "      <th>min</th>\n",
       "      <td>0.000000</td>\n",
       "      <td>0.000000</td>\n",
       "      <td>1.000000</td>\n",
       "      <td>1.000000</td>\n",
       "      <td>1.000000</td>\n",
       "    </tr>\n",
       "    <tr>\n",
       "      <th>25%</th>\n",
       "      <td>37.000000</td>\n",
       "      <td>15.000000</td>\n",
       "      <td>125.000000</td>\n",
       "      <td>2.000000</td>\n",
       "      <td>3.000000</td>\n",
       "    </tr>\n",
       "    <tr>\n",
       "      <th>50%</th>\n",
       "      <td>137.000000</td>\n",
       "      <td>66.000000</td>\n",
       "      <td>352.000000</td>\n",
       "      <td>5.000000</td>\n",
       "      <td>9.000000</td>\n",
       "    </tr>\n",
       "    <tr>\n",
       "      <th>75%</th>\n",
       "      <td>472.000000</td>\n",
       "      <td>255.000000</td>\n",
       "      <td>1057.250000</td>\n",
       "      <td>14.000000</td>\n",
       "      <td>24.000000</td>\n",
       "    </tr>\n",
       "    <tr>\n",
       "      <th>max</th>\n",
       "      <td>164821.000000</td>\n",
       "      <td>97913.000000</td>\n",
       "      <td>546630.000000</td>\n",
       "      <td>12723.000000</td>\n",
       "      <td>4646.000000</td>\n",
       "    </tr>\n",
       "  </tbody>\n",
       "</table>\n",
       "</div>"
      ],
      "text/plain": [
       "       total_issues_count  total_pull_requests_count  commits_count  \\\n",
       "count        50032.000000               50032.000000   50032.000000   \n",
       "mean           692.527762                 379.188679    1567.750640   \n",
       "std           2667.991723                1452.136572    6549.474475   \n",
       "min              0.000000                   0.000000       1.000000   \n",
       "25%             37.000000                  15.000000     125.000000   \n",
       "50%            137.000000                  66.000000     352.000000   \n",
       "75%            472.000000                 255.000000    1057.250000   \n",
       "max         164821.000000               97913.000000  546630.000000   \n",
       "\n",
       "       branches_count  contributors_count  \n",
       "count    50032.000000        50032.000000  \n",
       "mean        18.068956           34.833227  \n",
       "std         93.613874          119.074927  \n",
       "min          1.000000            1.000000  \n",
       "25%          2.000000            3.000000  \n",
       "50%          5.000000            9.000000  \n",
       "75%         14.000000           24.000000  \n",
       "max      12723.000000         4646.000000  "
      ]
     },
     "execution_count": 40,
     "metadata": {},
     "output_type": "execute_result"
    }
   ],
   "source": [
    "df_repo_hasIRT.describe()"
   ]
  },
  {
   "cell_type": "code",
   "execution_count": 41,
   "id": "1ec511e4-5e74-43e9-ad0b-024030bc6807",
   "metadata": {},
   "outputs": [
    {
     "data": {
      "text/html": [
       "<div>\n",
       "<style scoped>\n",
       "    .dataframe tbody tr th:only-of-type {\n",
       "        vertical-align: middle;\n",
       "    }\n",
       "\n",
       "    .dataframe tbody tr th {\n",
       "        vertical-align: top;\n",
       "    }\n",
       "\n",
       "    .dataframe thead th {\n",
       "        text-align: right;\n",
       "    }\n",
       "</style>\n",
       "<table border=\"1\" class=\"dataframe\">\n",
       "  <thead>\n",
       "    <tr style=\"text-align: right;\">\n",
       "      <th></th>\n",
       "      <th>total_issues_count</th>\n",
       "      <th>total_pull_requests_count</th>\n",
       "      <th>commits_count</th>\n",
       "      <th>branches_count</th>\n",
       "      <th>contributors_count</th>\n",
       "    </tr>\n",
       "  </thead>\n",
       "  <tbody>\n",
       "    <tr>\n",
       "      <th>count</th>\n",
       "      <td>1.034268e+06</td>\n",
       "      <td>1.034268e+06</td>\n",
       "      <td>1.034268e+06</td>\n",
       "      <td>1.034268e+06</td>\n",
       "      <td>1.034268e+06</td>\n",
       "    </tr>\n",
       "    <tr>\n",
       "      <th>mean</th>\n",
       "      <td>5.684081e+01</td>\n",
       "      <td>3.322467e+01</td>\n",
       "      <td>4.832006e+02</td>\n",
       "      <td>4.918488e+00</td>\n",
       "      <td>6.950720e+00</td>\n",
       "    </tr>\n",
       "    <tr>\n",
       "      <th>std</th>\n",
       "      <td>3.510778e+02</td>\n",
       "      <td>2.563568e+02</td>\n",
       "      <td>1.190641e+04</td>\n",
       "      <td>1.111781e+02</td>\n",
       "      <td>6.371503e+01</td>\n",
       "    </tr>\n",
       "    <tr>\n",
       "      <th>min</th>\n",
       "      <td>0.000000e+00</td>\n",
       "      <td>0.000000e+00</td>\n",
       "      <td>1.000000e+00</td>\n",
       "      <td>1.000000e+00</td>\n",
       "      <td>1.000000e+00</td>\n",
       "    </tr>\n",
       "    <tr>\n",
       "      <th>25%</th>\n",
       "      <td>1.000000e+00</td>\n",
       "      <td>0.000000e+00</td>\n",
       "      <td>1.400000e+01</td>\n",
       "      <td>1.000000e+00</td>\n",
       "      <td>1.000000e+00</td>\n",
       "    </tr>\n",
       "    <tr>\n",
       "      <th>50%</th>\n",
       "      <td>7.000000e+00</td>\n",
       "      <td>2.000000e+00</td>\n",
       "      <td>4.200000e+01</td>\n",
       "      <td>1.000000e+00</td>\n",
       "      <td>2.000000e+00</td>\n",
       "    </tr>\n",
       "    <tr>\n",
       "      <th>75%</th>\n",
       "      <td>2.800000e+01</td>\n",
       "      <td>1.300000e+01</td>\n",
       "      <td>1.340000e+02</td>\n",
       "      <td>3.000000e+00</td>\n",
       "      <td>4.000000e+00</td>\n",
       "    </tr>\n",
       "    <tr>\n",
       "      <th>max</th>\n",
       "      <td>9.534700e+04</td>\n",
       "      <td>7.948400e+04</td>\n",
       "      <td>4.314502e+06</td>\n",
       "      <td>1.085890e+05</td>\n",
       "      <td>4.993000e+03</td>\n",
       "    </tr>\n",
       "  </tbody>\n",
       "</table>\n",
       "</div>"
      ],
      "text/plain": [
       "       total_issues_count  total_pull_requests_count  commits_count  \\\n",
       "count        1.034268e+06               1.034268e+06   1.034268e+06   \n",
       "mean         5.684081e+01               3.322467e+01   4.832006e+02   \n",
       "std          3.510778e+02               2.563568e+02   1.190641e+04   \n",
       "min          0.000000e+00               0.000000e+00   1.000000e+00   \n",
       "25%          1.000000e+00               0.000000e+00   1.400000e+01   \n",
       "50%          7.000000e+00               2.000000e+00   4.200000e+01   \n",
       "75%          2.800000e+01               1.300000e+01   1.340000e+02   \n",
       "max          9.534700e+04               7.948400e+04   4.314502e+06   \n",
       "\n",
       "       branches_count  contributors_count  \n",
       "count    1.034268e+06        1.034268e+06  \n",
       "mean     4.918488e+00        6.950720e+00  \n",
       "std      1.111781e+02        6.371503e+01  \n",
       "min      1.000000e+00        1.000000e+00  \n",
       "25%      1.000000e+00        1.000000e+00  \n",
       "50%      1.000000e+00        2.000000e+00  \n",
       "75%      3.000000e+00        4.000000e+00  \n",
       "max      1.085890e+05        4.993000e+03  "
      ]
     },
     "execution_count": 41,
     "metadata": {},
     "output_type": "execute_result"
    }
   ],
   "source": [
    "df_repo_noIRT.describe()"
   ]
  },
  {
   "cell_type": "code",
   "execution_count": 42,
   "id": "8df0f78a-c6c1-4851-b4e6-880c555dd0b1",
   "metadata": {},
   "outputs": [],
   "source": [
    "counts = Counter(df_repo_noIRT['main_language'])\n",
    "top10langs_noIRT = counts.most_common(10)"
   ]
  },
  {
   "cell_type": "code",
   "execution_count": 43,
   "id": "57f925a9-668f-4a3e-9d37-fbae7068d616",
   "metadata": {},
   "outputs": [],
   "source": [
    "counts = Counter(df_repo_hasIRT['main_language'])\n",
    "top10langs_hasIRT = counts.most_common(10)"
   ]
  },
  {
   "cell_type": "code",
   "execution_count": 44,
   "id": "a98a8091-f68e-424d-9662-ae71bb048676",
   "metadata": {},
   "outputs": [],
   "source": [
    "inverse_lang_encodings = dict(zip(lang_encodings.values(), lang_encodings.keys()))"
   ]
  },
  {
   "cell_type": "code",
   "execution_count": 45,
   "id": "d69d1e2b-073a-4ea5-8133-581afeafa782",
   "metadata": {},
   "outputs": [],
   "source": [
    "top10langs_noIRT_raw = [inverse_lang_encodings[lang[0]] for lang in top10langs_noIRT]\n",
    "freqs_noIRT_raw = [lang[1] for lang in top10langs_noIRT]"
   ]
  },
  {
   "cell_type": "code",
   "execution_count": 46,
   "id": "2f513977-c28a-4b1f-95b2-2a29959dfd27",
   "metadata": {},
   "outputs": [],
   "source": [
    "top10langs_hasIRT_raw = [inverse_lang_encodings[lang[0]] for lang in top10langs_hasIRT]\n",
    "freqs_hasIRT_raw = [lang[1] for lang in top10langs_hasIRT]"
   ]
  },
  {
   "cell_type": "code",
   "execution_count": 47,
   "id": "2939ea94-00d3-4b8f-9f6e-89346f801031",
   "metadata": {},
   "outputs": [
    {
     "data": {
      "image/png": "[encoded data removed]",
      "text/plain": [
       "<Figure size 640x480 with 1 Axes>"
      ]
     },
     "metadata": {},
     "output_type": "display_data"
    }
   ],
   "source": [
    "plt.barh(top10langs_noIRT_raw, freqs_noIRT_raw, alpha=0.5)\n",
    "plt.title('hasIRT', weight='bold')\n",
    "plt.show()"
   ]
  },
  {
   "cell_type": "code",
   "execution_count": 48,
   "id": "f19a6a1a-1b67-4cea-8112-f72bbbca61f8",
   "metadata": {},
   "outputs": [
    {
     "data": {
      "image/png": "[encoded data removed]",
      "text/plain": [
       "<Figure size 640x480 with 1 Axes>"
      ]
     },
     "metadata": {},
     "output_type": "display_data"
    }
   ],
   "source": [
    "plt.barh(top10langs_hasIRT_raw, freqs_hasIRT_raw, alpha=0.5, color='red')\n",
    "plt.title('noIRT', weight='bold')\n",
    "plt.show()"
   ]
  },
  {
   "cell_type": "code",
   "execution_count": null,
   "id": "7a9f5327-7e19-4b4d-9b64-6f25f0b5bbf7",
   "metadata": {},
   "outputs": [],
   "source": []
  }
 ],
 "metadata": {
  "kernelspec": {
   "display_name": "Python 3.11",
   "language": "python",
   "name": "python3.11"
  },
  "language_info": {
   "codemirror_mode": {
    "name": "ipython",
    "version": 3
   },
   "file_extension": ".py",
   "mimetype": "text/x-python",
   "name": "python",
   "nbconvert_exporter": "python",
   "pygments_lexer": "ipython3",
   "version": "3.11.2"
  }
 },
 "nbformat": 4,
 "nbformat_minor": 5
}
